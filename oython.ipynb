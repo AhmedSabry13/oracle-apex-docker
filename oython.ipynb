{
 "cells": [
  {
   "cell_type": "code",
   "execution_count": 47,
   "metadata": {},
   "outputs": [
    {
     "name": "stdout",
     "output_type": "stream",
     "text": [
      "('APEX_LISTENER', 'OPEN')\n",
      "('APEX_PUBLIC_USER', 'OPEN')\n",
      "('APEX_PUBLIC_ROUTER', 'OPEN')\n",
      "('APEX_240200', 'OPEN')\n"
     ]
    }
   ],
   "source": [
    "import oracledb\n",
    "\n",
    "# Thin mode (no Oracle Instant Client needed)\n",
    "try:\n",
    "    connection = oracledb.connect(\n",
    "        user=\"system\",\n",
    "        password=\"Oracle123\",  # or your actual password\n",
    "        dsn=\"localhost:1521/freePDB1\",  # try ORCL, ORCLCDB, or ORCLPDB1\n",
    "        mode=oracledb.AUTH_MODE_DEFAULT\n",
    "    )\n",
    "\n",
    "    cursor = connection.cursor()\n",
    "    cursor.execute(\"SELECT username, account_status FROM dba_users WHERE username like '%APEX%'\")\n",
    "    for row in cursor:\n",
    "        print(row)\n",
    "\n",
    "    cursor.close()\n",
    "    connection.close()\n",
    "\n",
    "except Exception as e:\n",
    "    print(\"Connection failed:\", e)\n"
   ]
  }
 ],
 "metadata": {
  "kernelspec": {
   "display_name": "Python 3",
   "language": "python",
   "name": "python3"
  },
  "language_info": {
   "codemirror_mode": {
    "name": "ipython",
    "version": 3
   },
   "file_extension": ".py",
   "mimetype": "text/x-python",
   "name": "python",
   "nbconvert_exporter": "python",
   "pygments_lexer": "ipython3",
   "version": "3.13.1"
  }
 },
 "nbformat": 4,
 "nbformat_minor": 2
}
